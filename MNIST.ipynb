{
 "cells": [
  {
   "cell_type": "code",
   "execution_count": 75,
   "metadata": {
    "executionInfo": {
     "elapsed": 1916,
     "status": "ok",
     "timestamp": 1642088860806,
     "user": {
      "displayName": "ABD",
      "photoUrl": "https://lh3.googleusercontent.com/a-/AOh14GjeWNnJMrumAicas45krzv0Tt4jr4rsXyHvI-a5PIw=s64",
      "userId": "07363171520735456605"
     },
     "user_tz": -330
    },
    "id": "CV5yn-Rxj_YS"
   },
   "outputs": [],
   "source": [
    "import torch\n",
    "import torch.nn as nn\n",
    "import torch.nn.functional as F\n",
    "import torch.utils.data as data\n",
    "import torch.optim as optim\n",
    "\n",
    "import torchvision\n",
    "import torchvision.models as models\n",
    "import torchvision.datasets as D\n",
    "import torchvision.transforms as transforms\n",
    "from torchvision.utils import make_grid\n",
    "\n",
    "import matplotlib.pyplot as plt\n",
    "import time"
   ]
  },
  {
   "cell_type": "code",
   "execution_count": 2,
   "metadata": {
    "executionInfo": {
     "elapsed": 15,
     "status": "ok",
     "timestamp": 1642086307154,
     "user": {
      "displayName": "ABD",
      "photoUrl": "https://lh3.googleusercontent.com/a-/AOh14GjeWNnJMrumAicas45krzv0Tt4jr4rsXyHvI-a5PIw=s64",
      "userId": "07363171520735456605"
     },
     "user_tz": -330
    },
    "id": "MoWU5kerQNIN"
   },
   "outputs": [
    {
     "data": {
      "text/plain": [
       "'C:\\\\Users\\\\abdul\\\\Projects\\\\projects\\\\Scripts\\\\python.exe'"
      ]
     },
     "execution_count": 2,
     "metadata": {},
     "output_type": "execute_result"
    }
   ],
   "source": [
    "import sys\n",
    "sys.executable"
   ]
  },
  {
   "cell_type": "code",
   "execution_count": 3,
   "metadata": {
    "executionInfo": {
     "elapsed": 228,
     "status": "ok",
     "timestamp": 1642088864032,
     "user": {
      "displayName": "ABD",
      "photoUrl": "https://lh3.googleusercontent.com/a-/AOh14GjeWNnJMrumAicas45krzv0Tt4jr4rsXyHvI-a5PIw=s64",
      "userId": "07363171520735456605"
     },
     "user_tz": -330
    },
    "id": "9Gj5YBYAmlPr"
   },
   "outputs": [],
   "source": [
    "from torch.utils.tensorboard import SummaryWriter\n",
    "# %load_ext tensorboard \n",
    "# %tensorboard --logdir=runs"
   ]
  },
  {
   "cell_type": "code",
   "execution_count": 4,
   "metadata": {
    "colab": {
     "base_uri": "https://localhost:8080/"
    },
    "executionInfo": {
     "elapsed": 21,
     "status": "ok",
     "timestamp": 1642088869356,
     "user": {
      "displayName": "ABD",
      "photoUrl": "https://lh3.googleusercontent.com/a-/AOh14GjeWNnJMrumAicas45krzv0Tt4jr4rsXyHvI-a5PIw=s64",
      "userId": "07363171520735456605"
     },
     "user_tz": -330
    },
    "id": "cwDD3rBKcvzS",
    "outputId": "545e1210-944b-408e-f3b2-82d93c504f92"
   },
   "outputs": [
    {
     "name": "stdout",
     "output_type": "stream",
     "text": [
      "cuda:0\n"
     ]
    }
   ],
   "source": [
    "# device = torch.device(\"cuda:0\" if torch.cuda.is_available() else \"cpu\")\n",
    "\n",
    "device = torch.device(\"cuda:0\")\n",
    "# device = torch.device(\"cpu\")\n",
    "print(device)"
   ]
  },
  {
   "cell_type": "code",
   "execution_count": 5,
   "metadata": {
    "cellView": "form",
    "executionInfo": {
     "elapsed": 5,
     "status": "ok",
     "timestamp": 1642088873152,
     "user": {
      "displayName": "ABD",
      "photoUrl": "https://lh3.googleusercontent.com/a-/AOh14GjeWNnJMrumAicas45krzv0Tt4jr4rsXyHvI-a5PIw=s64",
      "userId": "07363171520735456605"
     },
     "user_tz": -330
    },
    "id": "icA_1Cixmypk"
   },
   "outputs": [],
   "source": [
    "#@title Model\n",
    "\n",
    "class Model(nn.Module):\n",
    "    def __init__(self):\n",
    "        super(Model, self).__init__()\n",
    "\n",
    "        self.convnet1 = nn.Sequential(\n",
    "                            nn.Conv2d(in_channels=1, out_channels=8, kernel_size=3),\n",
    "                            nn.BatchNorm2d(8),\n",
    "                            nn.ReLU(),\n",
    "                            nn.Conv2d(in_channels=8, out_channels=8, kernel_size=3),\n",
    "                            nn.BatchNorm2d(8),\n",
    "                            nn.ReLU(),\n",
    "                            nn.MaxPool2d(kernel_size=2, stride=2)\n",
    "        )\n",
    "        self.convnet2 = nn.Sequential(\n",
    "                            nn.Conv2d(in_channels=8, out_channels=16, kernel_size=3, stride=2),\n",
    "                            nn.BatchNorm2d(16),\n",
    "                            nn.ReLU(),\n",
    "                            nn.Conv2d(in_channels=16, out_channels=16, kernel_size=3),\n",
    "                            nn.BatchNorm2d(16),\n",
    "                            nn.ReLU(),\n",
    "                            nn.AdaptiveAvgPool2d(1)\n",
    "        )\n",
    "        self.FCs      = nn.Sequential(\n",
    "                            nn.Linear(in_features=16, out_features=16),\n",
    "                            nn.ReLU(),\n",
    "                            nn.Dropout(),\n",
    "                            nn.Linear(in_features=16, out_features=10)\n",
    "        )\n",
    "\n",
    "\n",
    "    def forward(self, x):\n",
    "        x = self.convnet1(x)\n",
    "        x = self.convnet2(x)\n",
    "        x = x.flatten(start_dim=1)\n",
    "        x = self.FCs(x)\n",
    "        return x"
   ]
  },
  {
   "cell_type": "code",
   "execution_count": 6,
   "metadata": {
    "colab": {
     "base_uri": "https://localhost:8080/"
    },
    "executionInfo": {
     "elapsed": 32,
     "status": "ok",
     "timestamp": 1642088873803,
     "user": {
      "displayName": "ABD",
      "photoUrl": "https://lh3.googleusercontent.com/a-/AOh14GjeWNnJMrumAicas45krzv0Tt4jr4rsXyHvI-a5PIw=s64",
      "userId": "07363171520735456605"
     },
     "user_tz": -330
    },
    "id": "As8Vywm0vdjp",
    "outputId": "66f98a1e-e8df-4892-a85a-1b31717c2b68"
   },
   "outputs": [
    {
     "name": "stderr",
     "output_type": "stream",
     "text": [
      "'ls' is not recognized as an internal or external command,\n",
      "operable program or batch file.\n"
     ]
    }
   ],
   "source": [
    "!ls"
   ]
  },
  {
   "cell_type": "code",
   "execution_count": 7,
   "metadata": {
    "executionInfo": {
     "elapsed": 71,
     "status": "ok",
     "timestamp": 1642088874309,
     "user": {
      "displayName": "ABD",
      "photoUrl": "https://lh3.googleusercontent.com/a-/AOh14GjeWNnJMrumAicas45krzv0Tt4jr4rsXyHvI-a5PIw=s64",
      "userId": "07363171520735456605"
     },
     "user_tz": -330
    },
    "id": "j4UnJvLUrXUb"
   },
   "outputs": [],
   "source": [
    "train_data = D.MNIST(\n",
    "    root = \"./\", \n",
    "    transform=transforms.Compose([transforms.ToTensor(), transforms.Normalize(mean=0.1307, std=0.3081)]),\n",
    "    download=True\n",
    ")\n",
    "test_data = D.MNIST(\n",
    "    root = \"./\", \n",
    "    transform=transforms.Compose([transforms.ToTensor(), transforms.Normalize(mean=0.1307, std=0.3081)]),\n",
    "    train=False,\n",
    "    download=True\n",
    ")\n",
    "\n",
    "\n",
    "# train_data = D.CIFAR10(\n",
    "#     root = \"cifar\", \n",
    "#     transform=transforms.Compose([transforms.ToTensor(), transforms.Normalize(mean=0.5, std=0.5)]),\n",
    "#     download=True\n",
    "# )\n",
    "# test_data = D.CIFAR10(\n",
    "#     root = \"cifar\", \n",
    "#     transform=transforms.Compose([transforms.ToTensor(), transforms.Normalize(mean=0.5, std=0.5)]),\n",
    "#     train=False,\n",
    "#     download=True\n",
    "# )\n",
    "# classes = ('plane', 'car', 'bird', 'cat',\n",
    "#            'deer', 'dog', 'frog', 'horse', 'ship', 'truck')"
   ]
  },
  {
   "cell_type": "code",
   "execution_count": 8,
   "metadata": {
    "colab": {
     "base_uri": "https://localhost:8080/"
    },
    "executionInfo": {
     "elapsed": 16,
     "status": "ok",
     "timestamp": 1642088876332,
     "user": {
      "displayName": "ABD",
      "photoUrl": "https://lh3.googleusercontent.com/a-/AOh14GjeWNnJMrumAicas45krzv0Tt4jr4rsXyHvI-a5PIw=s64",
      "userId": "07363171520735456605"
     },
     "user_tz": -330
    },
    "id": "wkMUnVXZUb5j",
    "outputId": "6521dc98-9f0c-43e1-b044-ea69929166ec"
   },
   "outputs": [
    {
     "data": {
      "text/plain": [
       "(60000, 10000)"
      ]
     },
     "execution_count": 8,
     "metadata": {},
     "output_type": "execute_result"
    }
   ],
   "source": [
    "len(train_data), len(test_data)"
   ]
  },
  {
   "cell_type": "code",
   "execution_count": 11,
   "metadata": {
    "executionInfo": {
     "elapsed": 25,
     "status": "ok",
     "timestamp": 1642088420078,
     "user": {
      "displayName": "ABD",
      "photoUrl": "https://lh3.googleusercontent.com/a-/AOh14GjeWNnJMrumAicas45krzv0Tt4jr4rsXyHvI-a5PIw=s64",
      "userId": "07363171520735456605"
     },
     "user_tz": -330
    },
    "id": "E1YIezdHu7Pj"
   },
   "outputs": [],
   "source": [
    "BATCH_SIZE = 9984-512\n",
    "train_loader = data.DataLoader(train_data, BATCH_SIZE, shuffle=True, num_workers=0) \n",
    "test_loader = data.DataLoader(test_data, BATCH_SIZE, shuffle=False, num_workers=0) "
   ]
  },
  {
   "cell_type": "code",
   "execution_count": 76,
   "metadata": {},
   "outputs": [
    {
     "name": "stderr",
     "output_type": "stream",
     "text": [
      "Clipping input data to the valid range for imshow with RGB data ([0..1] for floats or [0..255] for integers).\n"
     ]
    },
    {
     "data": {
      "text/plain": [
       "<matplotlib.image.AxesImage at 0x1b2e7db05b0>"
      ]
     },
     "execution_count": 76,
     "metadata": {},
     "output_type": "execute_result"
    },
    {
     "data": {
      "image/png": "[encoded data removed]",
      "text/plain": [
       "<Figure size 720x720 with 1 Axes>"
      ]
     },
     "metadata": {
      "needs_background": "light"
     },
     "output_type": "display_data"
    }
   ],
   "source": [
    "images, labels = next(iter(train_loader))\n",
    "img_grid = make_grid(images[:64, ...], pad_value=1, nrows=10)\n",
    "plt.figure(figsize=(10,10))\n",
    "plt.axis(\"off\")\n",
    "plt.imshow(img_grid.permute(1,2,0))"
   ]
  },
  {
   "cell_type": "code",
   "execution_count": 9,
   "metadata": {
    "colab": {
     "base_uri": "https://localhost:8080/"
    },
    "executionInfo": {
     "elapsed": 3709,
     "status": "ok",
     "timestamp": 1642088902363,
     "user": {
      "displayName": "ABD",
      "photoUrl": "https://lh3.googleusercontent.com/a-/AOh14GjeWNnJMrumAicas45krzv0Tt4jr4rsXyHvI-a5PIw=s64",
      "userId": "07363171520735456605"
     },
     "user_tz": -330
    },
    "id": "H5vsbU-dtZxa",
    "outputId": "c442a996-4e1f-4b62-ba18-482c3eafdbc3"
   },
   "outputs": [
    {
     "data": {
      "text/plain": [
       "Model(\n",
       "  (convnet1): Sequential(\n",
       "    (0): Conv2d(1, 8, kernel_size=(3, 3), stride=(1, 1))\n",
       "    (1): BatchNorm2d(8, eps=1e-05, momentum=0.1, affine=True, track_running_stats=True)\n",
       "    (2): ReLU()\n",
       "    (3): Conv2d(8, 8, kernel_size=(3, 3), stride=(1, 1))\n",
       "    (4): BatchNorm2d(8, eps=1e-05, momentum=0.1, affine=True, track_running_stats=True)\n",
       "    (5): ReLU()\n",
       "    (6): MaxPool2d(kernel_size=2, stride=2, padding=0, dilation=1, ceil_mode=False)\n",
       "  )\n",
       "  (convnet2): Sequential(\n",
       "    (0): Conv2d(8, 16, kernel_size=(3, 3), stride=(2, 2))\n",
       "    (1): BatchNorm2d(16, eps=1e-05, momentum=0.1, affine=True, track_running_stats=True)\n",
       "    (2): ReLU()\n",
       "    (3): Conv2d(16, 16, kernel_size=(3, 3), stride=(1, 1))\n",
       "    (4): BatchNorm2d(16, eps=1e-05, momentum=0.1, affine=True, track_running_stats=True)\n",
       "    (5): ReLU()\n",
       "    (6): AdaptiveAvgPool2d(output_size=1)\n",
       "  )\n",
       "  (FCs): Sequential(\n",
       "    (0): Linear(in_features=16, out_features=16, bias=True)\n",
       "    (1): ReLU()\n",
       "    (2): Dropout(p=0.5, inplace=False)\n",
       "    (3): Linear(in_features=16, out_features=10, bias=True)\n",
       "  )\n",
       ")"
      ]
     },
     "execution_count": 9,
     "metadata": {},
     "output_type": "execute_result"
    }
   ],
   "source": [
    "model = Model().to(device)\n",
    "model"
   ]
  },
  {
   "cell_type": "code",
   "execution_count": 13,
   "metadata": {
    "colab": {
     "base_uri": "https://localhost:8080/"
    },
    "executionInfo": {
     "elapsed": 1249,
     "status": "ok",
     "timestamp": 1642088903614,
     "user": {
      "displayName": "ABD",
      "photoUrl": "https://lh3.googleusercontent.com/a-/AOh14GjeWNnJMrumAicas45krzv0Tt4jr4rsXyHvI-a5PIw=s64",
      "userId": "07363171520735456605"
     },
     "user_tz": -330
    },
    "id": "dlrYO-3Pui3A",
    "outputId": "3c631c6a-c3de-450e-9f73-13d21b77ca3f"
   },
   "outputs": [
    {
     "data": {
      "text/plain": [
       "torch.Size([9472])"
      ]
     },
     "execution_count": 13,
     "metadata": {},
     "output_type": "execute_result"
    }
   ],
   "source": [
    "sample  = next(iter(train_loader))\n",
    "sample[1].shape"
   ]
  },
  {
   "cell_type": "code",
   "execution_count": 14,
   "metadata": {
    "executionInfo": {
     "elapsed": 5119,
     "status": "ok",
     "timestamp": 1642088908751,
     "user": {
      "displayName": "ABD",
      "photoUrl": "https://lh3.googleusercontent.com/a-/AOh14GjeWNnJMrumAicas45krzv0Tt4jr4rsXyHvI-a5PIw=s64",
      "userId": "07363171520735456605"
     },
     "user_tz": -330
    },
    "id": "1CKOVuViuoIN"
   },
   "outputs": [],
   "source": [
    "y = model(sample[0].cuda())"
   ]
  },
  {
   "cell_type": "code",
   "execution_count": 15,
   "metadata": {
    "colab": {
     "base_uri": "https://localhost:8080/"
    },
    "executionInfo": {
     "elapsed": 13,
     "status": "ok",
     "timestamp": 1642088908769,
     "user": {
      "displayName": "ABD",
      "photoUrl": "https://lh3.googleusercontent.com/a-/AOh14GjeWNnJMrumAicas45krzv0Tt4jr4rsXyHvI-a5PIw=s64",
      "userId": "07363171520735456605"
     },
     "user_tz": -330
    },
    "id": "vNVLLzBWxdk2",
    "outputId": "ec137116-a737-42ba-c9dc-f02cbb6da145"
   },
   "outputs": [
    {
     "data": {
      "text/plain": [
       "torch.Size([9472, 10])"
      ]
     },
     "execution_count": 15,
     "metadata": {},
     "output_type": "execute_result"
    }
   ],
   "source": [
    "y.shape"
   ]
  },
  {
   "cell_type": "code",
   "execution_count": 16,
   "metadata": {
    "executionInfo": {
     "elapsed": 265,
     "status": "ok",
     "timestamp": 1642088909052,
     "user": {
      "displayName": "ABD",
      "photoUrl": "https://lh3.googleusercontent.com/a-/AOh14GjeWNnJMrumAicas45krzv0Tt4jr4rsXyHvI-a5PIw=s64",
      "userId": "07363171520735456605"
     },
     "user_tz": -330
    },
    "id": "DWAjwHfIWwbf"
   },
   "outputs": [],
   "source": [
    "img_grid = torchvision.utils.make_grid(sample[0])"
   ]
  },
  {
   "cell_type": "code",
   "execution_count": 17,
   "metadata": {
    "executionInfo": {
     "elapsed": 13,
     "status": "ok",
     "timestamp": 1642088957068,
     "user": {
      "displayName": "ABD",
      "photoUrl": "https://lh3.googleusercontent.com/a-/AOh14GjeWNnJMrumAicas45krzv0Tt4jr4rsXyHvI-a5PIw=s64",
      "userId": "07363171520735456605"
     },
     "user_tz": -330
    },
    "id": "o1_UCOTLUMRL"
   },
   "outputs": [],
   "source": [
    "torch.cuda.empty_cache()"
   ]
  },
  {
   "cell_type": "code",
   "execution_count": 18,
   "metadata": {
    "id": "-wB7k7SFdT1w"
   },
   "outputs": [],
   "source": [
    "tb = SummaryWriter(\"runs/tb2\")\n",
    "\n",
    "tb.add_image(\"image_grid\", img_grid)\n",
    "tb.add_graph(model, sample[0].cuda())\n",
    "# tb.close()"
   ]
  },
  {
   "cell_type": "code",
   "execution_count": null,
   "metadata": {
    "executionInfo": {
     "elapsed": 3984,
     "status": "aborted",
     "timestamp": 1642086710635,
     "user": {
      "displayName": "ABD",
      "photoUrl": "https://lh3.googleusercontent.com/a-/AOh14GjeWNnJMrumAicas45krzv0Tt4jr4rsXyHvI-a5PIw=s64",
      "userId": "07363171520735456605"
     },
     "user_tz": -330
    },
    "id": "Fq0KFfwJdTzK"
   },
   "outputs": [],
   "source": [
    "!pip install wandb -q\n",
    "import wandb\n",
    "\n",
    "!wandb login"
   ]
  },
  {
   "cell_type": "code",
   "execution_count": null,
   "metadata": {
    "executionInfo": {
     "elapsed": 3754,
     "status": "aborted",
     "timestamp": 1642086710638,
     "user": {
      "displayName": "ABD",
      "photoUrl": "https://lh3.googleusercontent.com/a-/AOh14GjeWNnJMrumAicas45krzv0Tt4jr4rsXyHvI-a5PIw=s64",
      "userId": "07363171520735456605"
     },
     "user_tz": -330
    },
    "id": "-oJAegNHH5Vp"
   },
   "outputs": [],
   "source": [
    "wandb.init(project='common-ml-errors')\n",
    "wandb.watch(model, log='all')"
   ]
  },
  {
   "cell_type": "code",
   "execution_count": 10,
   "metadata": {
    "executionInfo": {
     "elapsed": 14,
     "status": "ok",
     "timestamp": 1642086756285,
     "user": {
      "displayName": "ABD",
      "photoUrl": "https://lh3.googleusercontent.com/a-/AOh14GjeWNnJMrumAicas45krzv0Tt4jr4rsXyHvI-a5PIw=s64",
      "userId": "07363171520735456605"
     },
     "user_tz": -330
    },
    "id": "rSpT8NOQf4rA"
   },
   "outputs": [],
   "source": [
    "criterion = nn.CrossEntropyLoss()\n",
    "optimizer = optim.Adam(model.parameters(), lr=0.001)\n",
    "scheduler = optim.lr_scheduler.ReduceLROnPlateau(optimizer, min_lr=0.00001, verbose=True)"
   ]
  },
  {
   "cell_type": "code",
   "execution_count": 11,
   "metadata": {
    "executionInfo": {
     "elapsed": 21,
     "status": "ok",
     "timestamp": 1642086756508,
     "user": {
      "displayName": "ABD",
      "photoUrl": "https://lh3.googleusercontent.com/a-/AOh14GjeWNnJMrumAicas45krzv0Tt4jr4rsXyHvI-a5PIw=s64",
      "userId": "07363171520735456605"
     },
     "user_tz": -330
    },
    "id": "zd4m7YZWxjvd"
   },
   "outputs": [],
   "source": [
    "def timeit(f):\n",
    "    def timed(*args, **kw):\n",
    "        start_time = time.time()\n",
    "        result = f(*args, **kw)\n",
    "        elapsed_time = time.time() - start_time\n",
    "\n",
    "#         wandb.log({f'Elapsed Time': elapsed_time})\n",
    "        # print({f'Elapsed Time': elapsed_time})\n",
    "        tb.add_scalar('Time Elapsed', elapsed_time)\n",
    "        return result\n",
    "\n",
    "    return timed"
   ]
  },
  {
   "cell_type": "code",
   "execution_count": 12,
   "metadata": {
    "executionInfo": {
     "elapsed": 47,
     "status": "ok",
     "timestamp": 1642087987183,
     "user": {
      "displayName": "ABD",
      "photoUrl": "https://lh3.googleusercontent.com/a-/AOh14GjeWNnJMrumAicas45krzv0Tt4jr4rsXyHvI-a5PIw=s64",
      "userId": "07363171520735456605"
     },
     "user_tz": -330
    },
    "id": "7Lyuhm0zfYSm"
   },
   "outputs": [],
   "source": [
    "def train_epoch(loader, model, criterion, optimizer, scheduler, device):\n",
    "    epoch_loss = 0\n",
    "    epoch_correct = 0\n",
    "    model.train()\n",
    "    start_time = time.time()\n",
    "    for i, (images, labels) in enumerate(loader):\n",
    "        torch.cuda.empty_cache()\n",
    "        images, labels = images.to(device), labels.to(device)\n",
    "        optimizer.zero_grad(set_to_none=True)\n",
    "        output = model(images)\n",
    "        loss = criterion(output, labels)\n",
    "        loss.backward()\n",
    "        optimizer.step()\n",
    "        scheduler.step(loss)\n",
    "\n",
    "        epoch_loss += loss.item()\n",
    "        acc = output.argmax(dim=1).eq(labels).sum().item()\n",
    "        epoch_correct += acc\n",
    "\n",
    "#         wandb.log({'Train Loss': loss.item(), 'Train Accuracy': acc/labels.shape[0]})\n",
    "#         tb.add_scalar('Train Loss', loss.item(), epoch)\n",
    "#         tb.add_scalar('Train Accuracy', acc/labels.shape[0], epoch)\n",
    "        # print({'Train Loss': loss.item(), 'Train Accuracy': acc/images.shape[0]})\n",
    "\n",
    "    elapsed_time = time.time() - start_time\n",
    "#     wandb.log({f'Elapsed Time': elapsed_time})\n",
    "    print({f'Elapsed Time': elapsed_time})\n",
    "#     tb.add_scalar('Time Elapsed', elapsed_time, epoch)\n",
    "    return epoch_loss, epoch_correct"
   ]
  },
  {
   "cell_type": "code",
   "execution_count": 13,
   "metadata": {
    "executionInfo": {
     "elapsed": 13,
     "status": "ok",
     "timestamp": 1642086756862,
     "user": {
      "displayName": "ABD",
      "photoUrl": "https://lh3.googleusercontent.com/a-/AOh14GjeWNnJMrumAicas45krzv0Tt4jr4rsXyHvI-a5PIw=s64",
      "userId": "07363171520735456605"
     },
     "user_tz": -330
    },
    "id": "BPWzDthoqRwU"
   },
   "outputs": [],
   "source": [
    "@torch.no_grad()\n",
    "def test(loader, model, criterion, device):\n",
    "    total_loss = 0\n",
    "    correct = 0\n",
    "    model.eval()\n",
    "    # with torch.no_grad():\n",
    "    for (images, labels) in loader:\n",
    "        images, labels = images.to(device), labels.to(device)\n",
    "        output = model(images)\n",
    "        loss = criterion(output, labels)\n",
    "        acc = output.argmax(dim=1).eq(labels).sum().item()\n",
    "        total_loss += loss.item()\n",
    "        correct += acc\n",
    "#     wandb.log({'Test Loss': total_loss, 'Test Accuracy': correct / 10000})\n",
    "    print({'Test Loss': total_loss, 'Test Accuracy': correct / 10000})\n",
    "    return total_loss, correct"
   ]
  },
  {
   "cell_type": "code",
   "execution_count": 57,
   "metadata": {
    "executionInfo": {
     "elapsed": 20,
     "status": "ok",
     "timestamp": 1642088921762,
     "user": {
      "displayName": "ABD",
      "photoUrl": "https://lh3.googleusercontent.com/a-/AOh14GjeWNnJMrumAicas45krzv0Tt4jr4rsXyHvI-a5PIw=s64",
      "userId": "07363171520735456605"
     },
     "user_tz": -330
    },
    "id": "ilDXW1RqE08K"
   },
   "outputs": [],
   "source": [
    "torch.cuda.empty_cache()"
   ]
  },
  {
   "cell_type": "code",
   "execution_count": 58,
   "metadata": {
    "colab": {
     "base_uri": "https://localhost:8080/"
    },
    "executionInfo": {
     "elapsed": 27,
     "status": "ok",
     "timestamp": 1642088890996,
     "user": {
      "displayName": "ABD",
      "photoUrl": "https://lh3.googleusercontent.com/a-/AOh14GjeWNnJMrumAicas45krzv0Tt4jr4rsXyHvI-a5PIw=s64",
      "userId": "07363171520735456605"
     },
     "user_tz": -330
    },
    "id": "s9Hd1v_5Enu8",
    "outputId": "dd5171ec-ba2e-45a4-aad8-580430652441"
   },
   "outputs": [
    {
     "name": "stdout",
     "output_type": "stream",
     "text": [
      "20480\n"
     ]
    }
   ],
   "source": [
    "BATCH_SIZE = int(4096*5)\n",
    "print(BATCH_SIZE)\n",
    "train_loader = data.DataLoader(train_data, BATCH_SIZE, shuffle=True, num_workers=0, pin_memory=True) \n",
    "test_loader = data.DataLoader(test_data, BATCH_SIZE, shuffle=False, num_workers=0, pin_memory=True) "
   ]
  },
  {
   "cell_type": "code",
   "execution_count": 69,
   "metadata": {},
   "outputs": [
    {
     "name": "stdout",
     "output_type": "stream",
     "text": [
      "{'Elapsed Time': 8.277518033981323}\n",
      "{'Test Loss': 0.716988742351532, 'Test Accuracy': 0.9379}\n",
      "{'Elapsed Time': 7.496715784072876}\n",
      "{'Test Loss': 0.6891948580741882, 'Test Accuracy': 0.9355}\n",
      "{'Elapsed Time': 7.5213258266448975}\n",
      "{'Test Loss': 0.66400545835495, 'Test Accuracy': 0.943}\n",
      "{'Elapsed Time': 7.746811151504517}\n",
      "{'Test Loss': 0.6423990726470947, 'Test Accuracy': 0.9419}\n",
      "{'Elapsed Time': 7.743400573730469}\n",
      "{'Test Loss': 0.6216387152671814, 'Test Accuracy': 0.9451}\n",
      "{'Elapsed Time': 7.613421678543091}\n",
      "{'Test Loss': 0.6098549365997314, 'Test Accuracy': 0.9485}\n",
      "{'Elapsed Time': 8.034040689468384}\n",
      "{'Test Loss': 0.5846220254898071, 'Test Accuracy': 0.9479}\n",
      "{'Elapsed Time': 8.192450046539307}\n",
      "{'Test Loss': 0.571475088596344, 'Test Accuracy': 0.9515}\n",
      "{'Elapsed Time': 7.675893306732178}\n",
      "{'Test Loss': 0.5563748478889465, 'Test Accuracy': 0.9539}\n",
      "{'Elapsed Time': 7.5492706298828125}\n",
      "{'Test Loss': 0.5373739004135132, 'Test Accuracy': 0.9532}\n",
      "{'Elapsed Time': 7.447328090667725}\n",
      "{'Test Loss': 0.5180989503860474, 'Test Accuracy': 0.9557}\n",
      "{'Elapsed Time': 7.521528005599976}\n",
      "{'Test Loss': 0.5067993998527527, 'Test Accuracy': 0.9571}\n"
     ]
    }
   ],
   "source": [
    "EPOCHS = 20\n",
    "for epoch in range(EPOCHS):\n",
    "    train_loss, train_acc = train_epoch(train_loader, model, criterion, optimizer, scheduler, device)\n",
    "    test_loss, test_acc = test(test_loader, model, criterion, device)\n",
    "#     tb.add_scalars('Losses', {'train': train_loss, 'test': test_loss}, epoch)\n",
    "#     tb.add_scalars('Acc', {'train': train_acc, 'test': test_acc}, epoch)"
   ]
  },
  {
   "cell_type": "code",
   "execution_count": 75,
   "metadata": {
    "colab": {
     "base_uri": "https://localhost:8080/"
    },
    "executionInfo": {
     "elapsed": 34,
     "status": "ok",
     "timestamp": 1642088397381,
     "user": {
      "displayName": "ABD",
      "photoUrl": "https://lh3.googleusercontent.com/a-/AOh14GjeWNnJMrumAicas45krzv0Tt4jr4rsXyHvI-a5PIw=s64",
      "userId": "07363171520735456605"
     },
     "user_tz": -330
    },
    "id": "Jdtr956eGBfa",
    "outputId": "ed9f4eb7-c998-4576-db7e-fcc8b5110bce"
   },
   "outputs": [
    {
     "data": {
      "text/plain": [
       "1"
      ]
     },
     "execution_count": 75,
     "metadata": {},
     "output_type": "execute_result"
    }
   ],
   "source": [
    "torch.cuda.device_count()"
   ]
  },
  {
   "cell_type": "code",
   "execution_count": null,
   "metadata": {
    "id": "pBadhVdb9uHi"
   },
   "outputs": [],
   "source": [
    "# tb.close()"
   ]
  },
  {
   "cell_type": "code",
   "execution_count": 61,
   "metadata": {},
   "outputs": [],
   "source": [
    "PATH = \"./cnn_mnist.pth\"\n",
    "torch.save(model.state_dict(), PATH)"
   ]
  },
  {
   "cell_type": "code",
   "execution_count": 73,
   "metadata": {
    "id": "W_fBV0Q014AZ"
   },
   "outputs": [],
   "source": [
    "@torch.no_grad()\n",
    "def get_all_preds(model, loader):\n",
    "    all_preds = torch.tensor([]).to(device)\n",
    "    for images, labels in loader:\n",
    "        images, labels = images.to(device), labels.to(device)\n",
    "\n",
    "        preds = model(images)\n",
    "        all_preds = torch.cat(\n",
    "            (all_preds, preds)\n",
    "            ,dim=0\n",
    "        )\n",
    "    return all_preds"
   ]
  },
  {
   "cell_type": "code",
   "execution_count": 63,
   "metadata": {
    "id": "ET4jFRWP2IdM"
   },
   "outputs": [
    {
     "data": {
      "text/plain": [
       "10000"
      ]
     },
     "execution_count": 63,
     "metadata": {},
     "output_type": "execute_result"
    }
   ],
   "source": [
    "len(test_data)"
   ]
  },
  {
   "cell_type": "code",
   "execution_count": 65,
   "metadata": {
    "id": "3tz0vnRk7Bbh"
   },
   "outputs": [
    {
     "data": {
      "text/plain": [
       "2"
      ]
     },
     "execution_count": 65,
     "metadata": {},
     "output_type": "execute_result"
    }
   ],
   "source": [
    "model.eval()\n",
    "2"
   ]
  },
  {
   "cell_type": "code",
   "execution_count": 67,
   "metadata": {
    "id": "80Z2WFaz2kRv"
   },
   "outputs": [
    {
     "name": "stdout",
     "output_type": "stream",
     "text": [
      "9578 correctly labeled out of 10000\n",
      "Accuracy on Test Set: 95.78\n"
     ]
    }
   ],
   "source": [
    "test_preds = get_all_preds(model, test_loader).cpu()\n",
    "print(test_preds.argmax(1).eq(test_data.test_labels).sum().item(), 'correctly labeled out of', len(test_data))\n",
    "print('Accuracy on Test Set:', test_preds.argmax(1).eq(test_data.targets).sum().item() / len(test_data) * 100)"
   ]
  },
  {
   "cell_type": "code",
   "execution_count": 81,
   "metadata": {
    "collapsed": true
   },
   "outputs": [
    {
     "data": {
      "text/plain": [
       "(tensor([   8,   18,  151,  158,  167,  185,  195,  247,  259,  264,  290,  318,\n",
       "          320,  321,  326,  340,  352,  359,  362,  445,  447,  449,  478,  490,\n",
       "          495,  528,  582,  591,  593,  597,  613,  646,  659,  674,  684,  717,\n",
       "          720,  726,  740,  741,  797,  882,  883,  894,  898,  924,  926,  936,\n",
       "          938,  947,  957,  958, 1014, 1033, 1039, 1072, 1107, 1112, 1119, 1166,\n",
       "         1182, 1191, 1202, 1204, 1208, 1217, 1224, 1226, 1232, 1247, 1256, 1259,\n",
       "         1260, 1283, 1299, 1326, 1393, 1394, 1404, 1409, 1425, 1429, 1441, 1466,\n",
       "         1500, 1530, 1549, 1551, 1581, 1616, 1618, 1627, 1634, 1637, 1641, 1654,\n",
       "         1678, 1681, 1695, 1709, 1727, 1737, 1754, 1808, 1839, 1847, 1878, 1901,\n",
       "         1903, 1913, 1941, 1952, 2016, 2035, 2040, 2044, 2052, 2073, 2093, 2099,\n",
       "         2109, 2118, 2129, 2130, 2135, 2162, 2182, 2186, 2189, 2200, 2222, 2224,\n",
       "         2225, 2237, 2266, 2280, 2293, 2299, 2300, 2325, 2329, 2351, 2369, 2380,\n",
       "         2395, 2406, 2408, 2414, 2415, 2422, 2462, 2488, 2496, 2507, 2516, 2533,\n",
       "         2542, 2560, 2578, 2589, 2597, 2607, 2654, 2686, 2689, 2730, 2740, 2742,\n",
       "         2770, 2780, 2810, 2812, 2823, 2850, 2914, 2921, 2930, 2939, 2970, 2990,\n",
       "         3030, 3060, 3073, 3102, 3114, 3122, 3130, 3132, 3146, 3157, 3166, 3236,\n",
       "         3250, 3269, 3300, 3316, 3329, 3333, 3369, 3392, 3394, 3422, 3441, 3451,\n",
       "         3460, 3475, 3506, 3520, 3558, 3573, 3587, 3597, 3635, 3709, 3738, 3742,\n",
       "         3755, 3762, 3767, 3778, 3780, 3796, 3818, 3821, 3838, 3846, 3850, 3859,\n",
       "         3906, 3926, 3941, 3943, 3946, 3953, 3962, 3976, 3985, 3994, 4017, 4052,\n",
       "         4063, 4065, 4078, 4092, 4152, 4163, 4201, 4205, 4212, 4224, 4248, 4256,\n",
       "         4259, 4261, 4287, 4289, 4293, 4294, 4306, 4317, 4360, 4405, 4425, 4427,\n",
       "         4433, 4435, 4511, 4521, 4548, 4571, 4575, 4601, 4604, 4620, 4639, 4662,\n",
       "         4668, 4681, 4696, 4699, 4723, 4724, 4731, 4739, 4740, 4755, 4808, 4823,\n",
       "         4837, 4838, 4860, 4874, 4879, 4886, 4888, 4943, 4950, 4956, 5067, 5140,\n",
       "         5159, 5165, 5183, 5194, 5242, 5246, 5268, 5299, 5311, 5504, 5648, 5677,\n",
       "         5735, 5835, 5842, 5845, 5854, 5874, 5887, 5888, 5906, 5937, 5955, 5981,\n",
       "         5982, 5985, 6065, 6091, 6112, 6157, 6161, 6166, 6172, 6173, 6400, 6421,\n",
       "         6505, 6555, 6569, 6571, 6576, 6592, 6597, 6625, 6662, 6677, 6783, 6895,\n",
       "         7044, 7432, 7459, 7495, 7498, 7724, 7735, 7756, 7800, 7821, 7841, 7842,\n",
       "         7905, 7921, 8006, 8065, 8075, 8081, 8091, 8092, 8095, 8196, 8273, 8278,\n",
       "         8290, 8316, 8408, 8508, 8520, 8539, 8653, 8826, 8912, 9009, 9015, 9019,\n",
       "         9024, 9036, 9054, 9071, 9342, 9372, 9382, 9422, 9478, 9482, 9517, 9530,\n",
       "         9554, 9610, 9642, 9664, 9679, 9692, 9698, 9719, 9729, 9733, 9749, 9762,\n",
       "         9770, 9777, 9792, 9811, 9830, 9831, 9839, 9867, 9883, 9891, 9905, 9913,\n",
       "         9970, 9982]),)"
      ]
     },
     "execution_count": 81,
     "metadata": {},
     "output_type": "execute_result"
    }
   ],
   "source": [
    "torch.where(~test_preds.argmax(1).eq(test_data.test_labels))"
   ]
  },
  {
   "cell_type": "code",
   "execution_count": 82,
   "metadata": {
    "id": "0ShofM3y4jE7"
   },
   "outputs": [
    {
     "name": "stdout",
     "output_type": "stream",
     "text": [
      "Predicted Label: 7 - seven\n",
      "Actual Label: 9 - nine\n"
     ]
    },
    {
     "data": {
      "image/png": "[encoded data removed]",
      "text/plain": [
       "<Figure size 432x288 with 1 Axes>"
      ]
     },
     "metadata": {
      "needs_background": "light"
     },
     "output_type": "display_data"
    }
   ],
   "source": [
    "idx = 3587\n",
    "classes = test_data.classes\n",
    "image, label = test_data[idx]\n",
    "plt.imshow(image.squeeze(), cmap=\"gray\")\n",
    "print(f\"Predicted Label: {classes[int(test_preds.argmax(1)[idx])]}\\nActual Label: {classes[label]}\")"
   ]
  },
  {
   "cell_type": "code",
   "execution_count": null,
   "metadata": {
    "id": "WiNHxO_u4FR-"
   },
   "outputs": [],
   "source": [
    "# wandb.finish()"
   ]
  },
  {
   "cell_type": "code",
   "execution_count": null,
   "metadata": {
    "id": "Q361rdxl49dt"
   },
   "outputs": [],
   "source": []
  }
 ],
 "metadata": {
  "accelerator": "GPU",
  "colab": {
   "authorship_tag": "ABX9TyOiQfo6XObRs2vcH3qFGMzT",
   "collapsed_sections": [],
   "name": "MNIST.ipynb",
   "provenance": []
  },
  "kernelspec": {
   "display_name": "Python 3 (ipykernel)",
   "language": "python",
   "name": "python3"
  },
  "language_info": {
   "codemirror_mode": {
    "name": "ipython",
    "version": 3
   },
   "file_extension": ".py",
   "mimetype": "text/x-python",
   "name": "python",
   "nbconvert_exporter": "python",
   "pygments_lexer": "ipython3",
   "version": "3.9.8"
  }
 },
 "nbformat": 4,
 "nbformat_minor": 1
}
